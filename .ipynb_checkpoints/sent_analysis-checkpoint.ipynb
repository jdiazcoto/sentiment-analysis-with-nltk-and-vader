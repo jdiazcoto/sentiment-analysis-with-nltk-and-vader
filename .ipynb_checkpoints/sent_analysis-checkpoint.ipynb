{
 "cells": [
  {
   "cell_type": "markdown",
   "id": "e7b1250b",
   "metadata": {},
   "source": [
    "## Necessary imports:\n",
    "\n",
    "    *https://www.nltk.org/\n",
    "    *https://pandas.pydata.org/\n",
    "\n",
    "\n",
    "## Good description of what is being done:\n",
    "https://towardsdatascience.com/sentimental-analysis-using-vader-a3415fef7664\n",
    "    "
   ]
  },
  {
   "cell_type": "code",
   "execution_count": 2,
   "id": "34748f02",
   "metadata": {},
   "outputs": [
    {
     "name": "stderr",
     "output_type": "stream",
     "text": [
      "[nltk_data] Downloading package vader_lexicon to\n",
      "[nltk_data]     /Users/jdiaz/nltk_data...\n",
      "[nltk_data]   Package vader_lexicon is already up-to-date!\n"
     ]
    }
   ],
   "source": [
    "import pandas as pd\n",
    "import nltk\n",
    "nltk.download('vader_lexicon')\n",
    "from nltk.sentiment.vader import SentimentIntensityAnalyzer\n",
    "\n",
    "sid = SentimentIntensityAnalyzer()"
   ]
  },
  {
   "cell_type": "markdown",
   "id": "202c8cec",
   "metadata": {},
   "source": [
    "## FIRST TRY"
   ]
  },
  {
   "cell_type": "code",
   "execution_count": 3,
   "id": "defdc36a",
   "metadata": {},
   "outputs": [],
   "source": [
    "\n",
    "## Import the whole data set, and remove newline characters\n",
    "##with open('datasetSentences.txt') as f:\n",
    "  ##  lines = f.read()\n",
    "##df_new = pd.DataFrame(lines)\n",
    "##df_new.head()\n",
    "#Remove tabs reading line by line\n",
    "#new_clean_of_text = []\n",
    "#for line in lines:\n",
    "#    line = line.strip('\\t')\n",
    "#    new_clean_of_text.append(line)"
   ]
  },
  {
   "cell_type": "markdown",
   "id": "64700a1e",
   "metadata": {},
   "source": [
    "# SECOND TRY"
   ]
  },
  {
   "cell_type": "code",
   "execution_count": 4,
   "id": "33d87694",
   "metadata": {},
   "outputs": [],
   "source": [
    "df = pd.read_excel('data.xlsx')"
   ]
  },
  {
   "cell_type": "code",
   "execution_count": 5,
   "id": "640fb215",
   "metadata": {},
   "outputs": [
    {
     "data": {
      "text/html": [
       "<div>\n",
       "<style scoped>\n",
       "    .dataframe tbody tr th:only-of-type {\n",
       "        vertical-align: middle;\n",
       "    }\n",
       "\n",
       "    .dataframe tbody tr th {\n",
       "        vertical-align: top;\n",
       "    }\n",
       "\n",
       "    .dataframe thead th {\n",
       "        text-align: right;\n",
       "    }\n",
       "</style>\n",
       "<table border=\"1\" class=\"dataframe\">\n",
       "  <thead>\n",
       "    <tr style=\"text-align: right;\">\n",
       "      <th></th>\n",
       "      <th>sentence_index</th>\n",
       "      <th>sentence</th>\n",
       "    </tr>\n",
       "  </thead>\n",
       "  <tbody>\n",
       "    <tr>\n",
       "      <th>0</th>\n",
       "      <td>1</td>\n",
       "      <td>The Rock is destined to be the 21st Century 's...</td>\n",
       "    </tr>\n",
       "    <tr>\n",
       "      <th>1</th>\n",
       "      <td>2</td>\n",
       "      <td>The gorgeously elaborate continuation of `` Th...</td>\n",
       "    </tr>\n",
       "    <tr>\n",
       "      <th>2</th>\n",
       "      <td>3</td>\n",
       "      <td>Effective but too-tepid biopic</td>\n",
       "    </tr>\n",
       "    <tr>\n",
       "      <th>3</th>\n",
       "      <td>4</td>\n",
       "      <td>If you sometimes like to go to the movies to h...</td>\n",
       "    </tr>\n",
       "    <tr>\n",
       "      <th>4</th>\n",
       "      <td>5</td>\n",
       "      <td>Emerges as something rare , an issue movie tha...</td>\n",
       "    </tr>\n",
       "  </tbody>\n",
       "</table>\n",
       "</div>"
      ],
      "text/plain": [
       "   sentence_index                                           sentence\n",
       "0               1  The Rock is destined to be the 21st Century 's...\n",
       "1               2  The gorgeously elaborate continuation of `` Th...\n",
       "2               3                     Effective but too-tepid biopic\n",
       "3               4  If you sometimes like to go to the movies to h...\n",
       "4               5  Emerges as something rare , an issue movie tha..."
      ]
     },
     "execution_count": 5,
     "metadata": {},
     "output_type": "execute_result"
    }
   ],
   "source": [
    "df.head()"
   ]
  },
  {
   "cell_type": "code",
   "execution_count": 8,
   "id": "34e699bb",
   "metadata": {},
   "outputs": [],
   "source": [
    "polarbear = []\n",
    "sentence_list = []\n",
    "df_sentences = pd.DataFrame(df['sentence'])\n",
    "for index, row in df_sentences.iterrows():\n",
    "    a = row['sentence']\n",
    "    sentence_list.append(a)\n",
    "    #polarities.append(sid.polarity_scores(a))"
   ]
  },
  {
   "cell_type": "code",
   "execution_count": 9,
   "id": "a8e7b5fa",
   "metadata": {},
   "outputs": [
    {
     "data": {
      "text/plain": [
       "list"
      ]
     },
     "execution_count": 9,
     "metadata": {},
     "output_type": "execute_result"
    }
   ],
   "source": [
    "type(sentence_list)"
   ]
  },
  {
   "cell_type": "code",
   "execution_count": 13,
   "id": "a3f965ec",
   "metadata": {},
   "outputs": [
    {
     "name": "stdout",
     "output_type": "stream",
     "text": [
      "{'neg': 0.226, 'neu': 0.61, 'pos': 0.165, 'compound': -0.25}\n"
     ]
    }
   ],
   "source": [
    "sentence_list_str = []\n",
    "for sentence in sentence_list:\n",
    "    sentence_list_str.append(str(sentence))\n",
    "    \n",
    "\n",
    "for sent in sentence_list_str:\n",
    "    a = sent\n",
    "    b = sid.polarity_scores(a)\n",
    "    polarbear.append(b)\n",
    "\n",
    "print(polarbear[100])"
   ]
  },
  {
   "cell_type": "markdown",
   "id": "ff53370d",
   "metadata": {},
   "source": [
    "## Plot 1st try\n",
    "    1. Get all negative and positive values in an x y cordinnate list"
   ]
  },
  {
   "cell_type": "code",
   "execution_count": 40,
   "id": "b1cb1c0d",
   "metadata": {},
   "outputs": [],
   "source": [
    "data = {\"x\":[],\"y\":[],\"neut\":[]}\n",
    "for polarity in polarbear:\n",
    "    data[\"x\"].append(polarity['neg'])\n",
    "    data[\"y\"].append(polarity['pos'])\n",
    "    data[\"neut\"].append(polarity['neu'])\n",
    "import matplotlib.pyplot as plt\n"
   ]
  },
  {
   "cell_type": "code",
   "execution_count": 41,
   "id": "69ae8b54",
   "metadata": {},
   "outputs": [
    {
     "data": {
      "image/png": "[encoded data removed]",
      "text/plain": [
       "<Figure size 720x576 with 1 Axes>"
      ]
     },
     "metadata": {
      "needs_background": "light"
     },
     "output_type": "display_data"
    }
   ],
   "source": [
    "plt.figure(figsize=(10,8))\n",
    "plt.grid()\n",
    "plt.title(\"Negative Polarities Scatter Plot\")\n",
    "plt.hist(data[\"x\"],10)\n",
    "plt.show()"
   ]
  },
  {
   "cell_type": "code",
   "execution_count": 42,
   "id": "0457d307",
   "metadata": {},
   "outputs": [
    {
     "data": {
      "image/png": "[encoded data removed]",
      "text/plain": [
       "<Figure size 720x576 with 1 Axes>"
      ]
     },
     "metadata": {
      "needs_background": "light"
     },
     "output_type": "display_data"
    }
   ],
   "source": [
    "plt.figure(figsize=(10,8))\n",
    "plt.grid()\n",
    "plt.title(\"Positive Polarities Scatter Plot\")\n",
    "plt.hist(data[\"y\"],10)\n",
    "plt.show()"
   ]
  },
  {
   "cell_type": "code",
   "execution_count": 43,
   "id": "142bd6b2",
   "metadata": {},
   "outputs": [
    {
     "data": {
      "image/png": "[encoded data removed]",
      "text/plain": [
       "<Figure size 720x576 with 1 Axes>"
      ]
     },
     "metadata": {
      "needs_background": "light"
     },
     "output_type": "display_data"
    }
   ],
   "source": [
    "plt.figure(figsize=(10,8))\n",
    "plt.grid()\n",
    "plt.title(\"Neutral Polarities Scatter Plot\")\n",
    "plt.hist(data[\"neut\"],10)\n",
    "plt.show()"
   ]
  },
  {
   "cell_type": "code",
   "execution_count": null,
   "id": "7d4986e4",
   "metadata": {},
   "outputs": [],
   "source": []
  }
 ],
 "metadata": {
  "kernelspec": {
   "display_name": "Python 3",
   "language": "python",
   "name": "python3"
  },
  "language_info": {
   "codemirror_mode": {
    "name": "ipython",
    "version": 3
   },
   "file_extension": ".py",
   "mimetype": "text/x-python",
   "name": "python",
   "nbconvert_exporter": "python",
   "pygments_lexer": "ipython3",
   "version": "3.8.5"
  }
 },
 "nbformat": 4,
 "nbformat_minor": 5
}
